{
 "cells": [
  {
   "cell_type": "code",
   "execution_count": null,
   "metadata": {},
   "outputs": [],
   "source": [
    "import json\n",
    "import os\n",
    "import re\n",
    "from enum import Enum\n",
    "\n",
    "def load_json(file):\n",
    "    pathname = os.path.join(os.getcwd(), file)\n",
    "    with open(pathname, 'r') as f:\n",
    "        data = json.load(f)\n",
    "    return data"
   ]
  },
  {
   "cell_type": "code",
   "execution_count": null,
   "metadata": {},
   "outputs": [],
   "source": [
    "target_folder_name = \"CDs_and_Vinyl\"\n",
    "target_folder_name = \"Grocery_and_Gourmet_Food\"\n",
    "target_folder_name = \"Toys_and_Games\"\n",
    "\n",
    "print(os.getcwd() + \"\\devided_dataset_v2\\\\\" + target_folder_name + \"\\\\train\\product_training.json\")\n",
    "print(os.getcwd() + \"\\devided_dataset_v2\\\\\" + target_folder_name + \"\\\\train\\\\review_training.json\")\n",
    "\n",
    "products = load_json(os.getcwd() + \"\\devided_dataset_v2\\\\\" + target_folder_name + \"\\\\train\\product_training.json\")\n",
    "reviews = load_json(os.getcwd() + \"\\devided_dataset_v2\\\\\" + target_folder_name + \"\\\\train\\\\review_training.json\")\n",
    "\n"
   ]
  },
  {
   "cell_type": "code",
   "execution_count": null,
   "metadata": {},
   "outputs": [],
   "source": [
    "# DO NOT RUN THIS\n",
    "print(products.keys())\n",
    "print(reviews.keys())\n",
    "\n",
    "seen_ids = []\n",
    "seen_ids2 = {}\n",
    "\n",
    "print(list(reviews['asin'].keys())[0:100])\n",
    "print(len(list(products['asin'].keys())))\n",
    "print(len(list(reviews['asin'].keys())))\n",
    "# for x in list(products['asin'].keys()):\n",
    "#     curr_id = products['asin'][x]\n",
    "#     if curr_id in seen_ids: \n",
    "#         print(\"!!!!!\")\n",
    "#         break\n",
    "#     seen_ids.append(curr_id)\n",
    "\n",
    "for x in list(reviews['asin'].keys()):\n",
    "    curr_id = reviews['asin'][x]\n",
    "    if curr_id in list(seen_ids2.keys()): \n",
    "        seen_ids2[curr_id] = seen_ids2[curr_id] + 1\n",
    "    else:\n",
    "        seen_ids2[curr_id] = 1\n",
    "\n"
   ]
  },
  {
   "cell_type": "code",
   "execution_count": null,
   "metadata": {},
   "outputs": [],
   "source": [
    "# DO NOT RUN\n",
    "print(len(list(seen_ids2.keys())))\n",
    "\n",
    "counter = 0\n",
    "min_num = 1000000\n",
    "max_num = 0\n",
    "\n",
    "for x in list(seen_ids2.keys()):\n",
    "    curr_int = int(seen_ids2[x])\n",
    "    counter += curr_int\n",
    "    if min_num > curr_int:\n",
    "        min_num = curr_int\n",
    "    if max_num < curr_int:\n",
    "        max_num = curr_int\n",
    "\n",
    "print(counter / len(list(seen_ids2.keys())))\n",
    "print(min_num)\n",
    "print(max_num)"
   ]
  },
  {
   "cell_type": "code",
   "execution_count": null,
   "metadata": {},
   "outputs": [],
   "source": [
    "def product_ID_to_key(id: str, products: dict):\n",
    "    key_to_id = products['asin']\n",
    "    for x in key_to_id.keys():\n",
    "        if key_to_id[x] == id:\n",
    "            return x\n",
    "        \n",
    "    return None\n",
    "\n",
    "print(product_ID_to_key(reviews['asin']['0'], products))\n"
   ]
  },
  {
   "cell_type": "code",
   "execution_count": null,
   "metadata": {},
   "outputs": [],
   "source": [
    "\n",
    "print(reviews.keys())\n",
    "\n",
    "def getFirstXReviews(num: int, reviews: dict):\n",
    "    reviews_truncated = {'asin':{}, 'verified':{}, 'reviewText':{}, 'summary':{}, 'vote':{}, 'image':{}}\n",
    "    for x in range(num-1):\n",
    "        x = str(x)\n",
    "        reviews_truncated['asin'][x] = reviews['asin'][x]\n",
    "        reviews_truncated['verified'][x] = reviews['verified'][x]\n",
    "        reviews_truncated['reviewText'][x] = reviews['reviewText'][x]\n",
    "        reviews_truncated['summary'][x] = reviews['summary'][x]\n",
    "        reviews_truncated['vote'][x] = reviews['vote'][x]\n",
    "        reviews_truncated['image'][x] = reviews['image'][x]\n",
    "    return reviews_truncated\n",
    "\n",
    "print(getFirstXReviews(10, reviews))\n"
   ]
  },
  {
   "cell_type": "code",
   "execution_count": null,
   "metadata": {},
   "outputs": [],
   "source": [
    "from vaderSentiment.vaderSentiment import SentimentIntensityAnalyzer\n",
    "\n",
    "dataset = getFirstXReviews(20, reviews)\n",
    "len_dataset = len(list(dataset['asin'].keys()))\n",
    "ana = SentimentIntensityAnalyzer()\n",
    "\n",
    "for x in range(len_dataset):\n",
    "    x = str(x)\n",
    "\n",
    "    print(\"Summary text: \" + str(dataset['summary'][x]))\n",
    "    vs2 = ana.polarity_scores(dataset['summary'][x])\n",
    "    print(\"\\tSummary scores VS: \" + str(vs2))\n",
    "\n",
    "    print(\"\\tReview text: \" + str(dataset['reviewText'][x]))\n",
    "    vs2 = ana.polarity_scores(dataset['reviewText'][x])\n",
    "    print(\"\\tReview text scores VS: \" + str(vs2))\n",
    "\n",
    "    is_awesome = products[\"awesomeness\"][product_ID_to_key(dataset['asin'][x], products)]\n",
    "    print(\"\\tAwesomeness (canon): \" + str(is_awesome))"
   ]
  }
 ],
 "metadata": {
  "kernelspec": {
   "display_name": "Python 3",
   "language": "python",
   "name": "python3"
  },
  "language_info": {
   "codemirror_mode": {
    "name": "ipython",
    "version": 3
   },
   "file_extension": ".py",
   "mimetype": "text/x-python",
   "name": "python",
   "nbconvert_exporter": "python",
   "pygments_lexer": "ipython3",
   "version": "3.10.7"
  },
  "orig_nbformat": 4
 },
 "nbformat": 4,
 "nbformat_minor": 2
}
